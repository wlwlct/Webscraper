{
 "metadata": {
  "language_info": {
   "codemirror_mode": {
    "name": "ipython",
    "version": 3
   },
   "file_extension": ".py",
   "mimetype": "text/x-python",
   "name": "python",
   "nbconvert_exporter": "python",
   "pygments_lexer": "ipython3",
   "version": "3.7.3-final"
  },
  "orig_nbformat": 2,
  "kernelspec": {
   "name": "python37364bit540ca899645842b89bf16ff9bf90538a",
   "display_name": "Python 3.7.3 64-bit",
   "language": "python"
  }
 },
 "nbformat": 4,
 "nbformat_minor": 2,
 "cells": [
  {
   "source": [
    "# Goal\n",
    "The following is the code for scraping LinkedIn for STEM students, find the general skills and degree related.\n",
    "I would use Beautiful soup and selenium together\n",
    "|job title|major|skills|"
   ],
   "cell_type": "markdown",
   "metadata": {}
  },
  {
   "source": [
    "# Selenium+BeautifulSoup"
   ],
   "cell_type": "markdown",
   "metadata": {}
  },
  {
   "cell_type": "code",
   "execution_count": 1,
   "metadata": {},
   "outputs": [],
   "source": [
    "import math\n",
    "import pandas as pd\n",
    "import re\n",
    "from bs4 import BeautifulSoup\n",
    "from datetime import date, timedelta, datetime\n",
    "from IPython.core.display import clear_output\n",
    "from random import randint\n",
    "from requests import get\n",
    "from selenium import webdriver\n",
    "from selenium.webdriver.common.action_chains import ActionChains\n",
    "from time import sleep\n",
    "from time import time\n",
    "start_time = time()\n",
    "from warnings import warn\n",
    "from datetime import datetime\n"
   ]
  },
  {
   "cell_type": "code",
   "execution_count": 2,
   "metadata": {},
   "outputs": [],
   "source": [
    "# replace variables here.\n",
    "url = \"https://www.linkedin.com/jobs/search?keywords=Physical%20Chemistry&location=United%20States&geoId=&trk=public_jobs_jobs-search-bar_search-submit&redirect=false&position=1&pageNum=0\"\n",
    "no_of_jobs = 50"
   ]
  },
  {
   "cell_type": "code",
   "execution_count": 3,
   "metadata": {},
   "outputs": [],
   "source": [
    "# this will open up new window with the url provided above \n",
    "driver = webdriver.Chrome('/Users/livi/Git/Webscraper/chromedriver')\n",
    "driver.get(url)\n",
    "sleep(3)\n",
    "action = ActionChains(driver)"
   ]
  },
  {
   "cell_type": "code",
   "execution_count": 4,
   "metadata": {},
   "outputs": [],
   "source": [
    "# to show more jobs. Depends on number of jobs selected\n",
    "i = 2\n",
    "while i <= math.ceil(no_of_jobs/25): \n",
    "    #driver.find_element_by_xpath('/html/body/main/div/section/button').send_keys(Keys.PAGE_DOWN)\n",
    "    driver.execute_script(\"window.scrollTo(0,  document.body.scrollHeight);\")\n",
    "    i = i + 1\n",
    "    sleep(15)"
   ]
  },
  {
   "cell_type": "code",
   "execution_count": 5,
   "metadata": {},
   "outputs": [
    {
     "output_type": "stream",
     "name": "stdout",
     "text": [
      "You are scraping information about 50 jobs.\n"
     ]
    }
   ],
   "source": [
    "# parsing the visible webpage\n",
    "pageSource = driver.page_source\n",
    "lxml_soup = BeautifulSoup(pageSource, 'lxml')\n",
    "\n",
    "# searching for all job containers\n",
    "job_container = lxml_soup.find('ul', class_ = 'jobs-search__results-list')\n",
    "\n",
    "print('You are scraping information about {} jobs.'.format(len(job_container)))"
   ]
  },
  {
   "cell_type": "code",
   "execution_count": 6,
   "metadata": {},
   "outputs": [],
   "source": [
    "# setting up list for job information\n",
    "job_id = []\n",
    "post_title = []\n",
    "company_name = []\n",
    "post_date = []\n",
    "job_location = []\n",
    "job_desc = []\n",
    "level = []\n",
    "emp_type = []\n",
    "functions = []\n",
    "industries = []\n",
    "\n",
    "# for loop for job title, company, id, location and date posted\n",
    "for job in job_container:\n",
    "\n",
    "    # job title\n",
    "    job_titles = job.find(\"span\", class_=\"screen-reader-text\").text\n",
    "    post_title.append(job_titles)\n",
    "    \n",
    "    # linkedin job id\n",
    "    job_ids = job.find('a', href=True)['href']\n",
    "    job_ids = re.findall(r'(?!-)([0-9]*)(?=\\?)',job_ids)[0]\n",
    "    job_id.append(job_ids)\n",
    "    \n",
    "    # company name\n",
    "    company_names = job.select_one('img')['alt']\n",
    "    company_name.append(company_names)\n",
    "    \n",
    "    # job location\n",
    "    job_locations = job.find(\"span\", class_=\"job-result-card__location\").text\n",
    "    job_location.append(job_locations)\n",
    "    \n",
    "    # posting date\n",
    "    post_dates = job.select_one('time')['datetime']\n",
    "    post_date.append(post_dates)"
   ]
  },
  {
   "cell_type": "code",
   "execution_count": 7,
   "metadata": {
    "tags": []
   },
   "outputs": [],
   "source": [
    "# for loop for job description and criterias\n",
    "for x in range(1,len(job_id)+1):\n",
    "    \n",
    "    # clicking on different job containers to view information about the job\n",
    "    job_xpath = '/html/body/main/div/section/ul/li[{}]/img'.format(x)\n",
    "    driver.find_element_by_xpath(job_xpath).click()\n",
    "    sleep(3)\n",
    "\n",
    "    # job description    \n",
    "    jb = driver.find_element_by_class_name('show-more-less-html')\n",
    "    jb_html=jb.get_attribute('outerHTML')\n",
    "    del jb\n",
    "    jb = BeautifulSoup(jb_html, 'html.parser')\n",
    "    jj = jb.find('div', class_ = 'show-more-less-html__markup show-more-less-html__markup--clamp-after-5')\n",
    "    #full_description='\\n'.join(jj.find_all(text=True))\n",
    "    full_description=jj.find_all(text=True)\n",
    "    job_desc.append(full_description)\n",
    "\n",
    "\n",
    "    job_criteria=driver.find_elements_by_class_name('job-criteria__item')\n",
    "    for jc in job_criteria:\n",
    "        func,var=jc.text.split('\\n')[0],jc.text.split('\\n')[1]\n",
    "        if func=='Seniority level':\n",
    "            level.append(var)\n",
    "        if func=='Employment type':\n",
    "            emp_type.append(var)\n",
    "        if func=='Job function':\n",
    "            functions.append(var)\n",
    "        if func=='Industries':\n",
    "            industries.append(var)"
   ]
  },
  {
   "cell_type": "code",
   "execution_count": 8,
   "metadata": {},
   "outputs": [
    {
     "output_type": "stream",
     "name": "stdout",
     "text": [
      "50\n50\n50\n50\n50\n50\n50\n50\n49\n50\n"
     ]
    }
   ],
   "source": [
    "# to check if we have all information\n",
    "print(len(job_id))\n",
    "print(len(post_date))\n",
    "print(len(company_name))\n",
    "print(len(post_title))\n",
    "print(len(job_location))\n",
    "print(len(job_desc))\n",
    "print(len(level))\n",
    "print(len(emp_type))\n",
    "print(len(functions))\n",
    "print(len(industries))"
   ]
  },
  {
   "cell_type": "code",
   "execution_count": 9,
   "metadata": {},
   "outputs": [
    {
     "output_type": "stream",
     "name": "stdout",
     "text": [
      "<class 'pandas.core.frame.DataFrame'>\nRangeIndex: 50 entries, 0 to 49\nData columns (total 10 columns):\n #   Column        Non-Null Count  Dtype \n---  ------        --------------  ----- \n 0   Job ID        50 non-null     object\n 1   Date          50 non-null     object\n 2   Company Name  50 non-null     object\n 3   Post          50 non-null     object\n 4   Location      50 non-null     object\n 5   Description   50 non-null     object\n 6   Level         50 non-null     object\n 7   Type          50 non-null     object\n 8   Function      49 non-null     object\n 9   Industry      50 non-null     object\ndtypes: object(10)\nmemory usage: 4.0+ KB\nNone\n"
     ]
    },
    {
     "output_type": "execute_result",
     "data": {
      "text/plain": [
       "       Job ID        Date           Company Name                     Post  \\\n",
       "0  2459386036  2021-03-11           CIBC Graphic           Data Scientist   \n",
       "1  2335116409  2021-02-17           Wish Graphic           Data Scientist   \n",
       "2  2430316462  2021-02-19  Ample Insight Graphic  Data Scientist (remote)   \n",
       "3  2377887650  2021-01-23           Yelp Graphic  Data Scientist (Remote)   \n",
       "4  2444193725  2021-03-12          OMERS Graphic           Data Scientist   \n",
       "\n",
       "                   Location  \\\n",
       "0  Toronto, Ontario, Canada   \n",
       "1  Toronto, Ontario, Canada   \n",
       "2  Toronto, Ontario, Canada   \n",
       "3  Toronto, Ontario, Canada   \n",
       "4  Toronto, Ontario, Canada   \n",
       "\n",
       "                                         Description           Level  \\\n",
       "0  [We’re building a relationship-oriented bank f...     Entry level   \n",
       "1  [Company Description, Wish is a mobile e-comme...       Associate   \n",
       "2  [Company Description, You will join a world-cl...       Associate   \n",
       "3  [At Yelp, it’s our mission to connect people w...     Entry level   \n",
       "4  [Data Scientist, Head Office Toronto , Why joi...  Not Applicable   \n",
       "\n",
       "        Type                           Function  \\\n",
       "0  Full-time  EngineeringInformation Technology   \n",
       "1  Full-time                        Engineering   \n",
       "2  Full-time  EngineeringInformation Technology   \n",
       "3  Full-time  EngineeringInformation Technology   \n",
       "4  Full-time  EngineeringInformation Technology   \n",
       "\n",
       "                                            Industry  \n",
       "0  Information Technology and ServicesHuman Resou...  \n",
       "1            Computer SoftwareInternetConsumer Goods  \n",
       "2  Information Technology and ServicesComputer So...  \n",
       "3  Computer SoftwareInternetMarketing and Adverti...  \n",
       "4                                 Financial Services  "
      ],
      "text/html": "<div>\n<style scoped>\n    .dataframe tbody tr th:only-of-type {\n        vertical-align: middle;\n    }\n\n    .dataframe tbody tr th {\n        vertical-align: top;\n    }\n\n    .dataframe thead th {\n        text-align: right;\n    }\n</style>\n<table border=\"1\" class=\"dataframe\">\n  <thead>\n    <tr style=\"text-align: right;\">\n      <th></th>\n      <th>Job ID</th>\n      <th>Date</th>\n      <th>Company Name</th>\n      <th>Post</th>\n      <th>Location</th>\n      <th>Description</th>\n      <th>Level</th>\n      <th>Type</th>\n      <th>Function</th>\n      <th>Industry</th>\n    </tr>\n  </thead>\n  <tbody>\n    <tr>\n      <th>0</th>\n      <td>2459386036</td>\n      <td>2021-03-11</td>\n      <td>CIBC Graphic</td>\n      <td>Data Scientist</td>\n      <td>Toronto, Ontario, Canada</td>\n      <td>[We’re building a relationship-oriented bank f...</td>\n      <td>Entry level</td>\n      <td>Full-time</td>\n      <td>EngineeringInformation Technology</td>\n      <td>Information Technology and ServicesHuman Resou...</td>\n    </tr>\n    <tr>\n      <th>1</th>\n      <td>2335116409</td>\n      <td>2021-02-17</td>\n      <td>Wish Graphic</td>\n      <td>Data Scientist</td>\n      <td>Toronto, Ontario, Canada</td>\n      <td>[Company Description, Wish is a mobile e-comme...</td>\n      <td>Associate</td>\n      <td>Full-time</td>\n      <td>Engineering</td>\n      <td>Computer SoftwareInternetConsumer Goods</td>\n    </tr>\n    <tr>\n      <th>2</th>\n      <td>2430316462</td>\n      <td>2021-02-19</td>\n      <td>Ample Insight Graphic</td>\n      <td>Data Scientist (remote)</td>\n      <td>Toronto, Ontario, Canada</td>\n      <td>[Company Description, You will join a world-cl...</td>\n      <td>Associate</td>\n      <td>Full-time</td>\n      <td>EngineeringInformation Technology</td>\n      <td>Information Technology and ServicesComputer So...</td>\n    </tr>\n    <tr>\n      <th>3</th>\n      <td>2377887650</td>\n      <td>2021-01-23</td>\n      <td>Yelp Graphic</td>\n      <td>Data Scientist (Remote)</td>\n      <td>Toronto, Ontario, Canada</td>\n      <td>[At Yelp, it’s our mission to connect people w...</td>\n      <td>Entry level</td>\n      <td>Full-time</td>\n      <td>EngineeringInformation Technology</td>\n      <td>Computer SoftwareInternetMarketing and Adverti...</td>\n    </tr>\n    <tr>\n      <th>4</th>\n      <td>2444193725</td>\n      <td>2021-03-12</td>\n      <td>OMERS Graphic</td>\n      <td>Data Scientist</td>\n      <td>Toronto, Ontario, Canada</td>\n      <td>[Data Scientist, Head Office Toronto , Why joi...</td>\n      <td>Not Applicable</td>\n      <td>Full-time</td>\n      <td>EngineeringInformation Technology</td>\n      <td>Financial Services</td>\n    </tr>\n  </tbody>\n</table>\n</div>"
     },
     "metadata": {},
     "execution_count": 9
    }
   ],
   "source": [
    "# creating a dataframe\n",
    "job_data = pd.DataFrame.from_dict({'Job ID': job_id,\n",
    "'Date': post_date,\n",
    "'Company Name': company_name,\n",
    "'Post': post_title,\n",
    "'Location': job_location,\n",
    "'Description': job_desc,\n",
    "'Level': level,\n",
    "'Type': emp_type,'Function': functions,'Industry': industries},orient='index').T\n",
    "\n",
    "\n",
    "# cleaning description column\n",
    "#job_data['Description'] = job_data['Description'].str.replace('\\n',' ')\n",
    "\n",
    "print(job_data.info())\n",
    "job_data.head()"
   ]
  },
  {
   "cell_type": "code",
   "execution_count": 10,
   "metadata": {},
   "outputs": [],
   "source": [
    "# datetime object containing current date and time\n",
    "now = datetime.now()\n",
    "dt_string = now.strftime(\"%d/%m/%Y %H:%M:%S\")\n",
    "na='job'+'_'.join(dt_string.split(' ')[0].split('/'))+'_'+'_'.join(dt_string.split(' ')[1].split(':'))+'.csv'\n",
    "job_data.to_csv(na)"
   ]
  },
  {
   "cell_type": "code",
   "execution_count": null,
   "metadata": {},
   "outputs": [],
   "source": []
  }
 ]
}